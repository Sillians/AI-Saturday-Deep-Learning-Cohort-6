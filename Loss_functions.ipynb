{
  "nbformat": 4,
  "nbformat_minor": 0,
  "metadata": {
    "colab": {
      "name": "Loss functions.ipynb",
      "provenance": [],
      "collapsed_sections": [],
      "authorship_tag": "ABX9TyMwEMdKHw58vn7WsOMsDzyv",
      "include_colab_link": true
    },
    "kernelspec": {
      "name": "python3",
      "display_name": "Python 3"
    }
  },
  "cells": [
    {
      "cell_type": "markdown",
      "metadata": {
        "id": "view-in-github",
        "colab_type": "text"
      },
      "source": [
        "<a href=\"https://colab.research.google.com/github/Sillians/AI-Saturday-Deep-Learning-Cohort-6/blob/main/Loss_functions.ipynb\" target=\"_parent\"><img src=\"https://colab.research.google.com/assets/colab-badge.svg\" alt=\"Open In Colab\"/></a>"
      ]
    },
    {
      "cell_type": "markdown",
      "metadata": {
        "id": "D3CwQjiZycyG"
      },
      "source": [
        "- Loss functions are used to gauge the error between the prediction output and the provided target value. A loss function tells us how far the algorithm model is from realizing the expected outcome. The word ‘loss’ means the penalty that the model gets for failing to yield the desired results.\n",
        "\n",
        "### How to add PyTorch loss functions"
      ]
    },
    {
      "cell_type": "code",
      "metadata": {
        "id": "3mxWd20myH57"
      },
      "source": [
        "import torch\n",
        "import torch.nn as nn"
      ],
      "execution_count": 1,
      "outputs": []
    },
    {
      "cell_type": "code",
      "metadata": {
        "id": "Ctm3VTED0FsC"
      },
      "source": [
        "# mean absolute error loss function:\n",
        "loss = nn.L1Loss()"
      ],
      "execution_count": null,
      "outputs": []
    },
    {
      "cell_type": "markdown",
      "metadata": {
        "id": "mbI2fJTR0w4M"
      },
      "source": [
        "- Regression loss functions are used when the model is predicting a continuous value, like the age of a person. \n",
        "\n",
        "- Classification loss functions are used when the model is predicting a discrete value, such as whether an email is spam or not. \n",
        "\n",
        "- Ranking loss functions are used when the model is predicting the relative distances between inputs, such as ranking products according to their relevance on an e-commerce search page.\n",
        "\n",
        "\n",
        "Now we’ll explore the different types of loss functions in PyTorch, and how to use them:"
      ]
    },
    {
      "cell_type": "markdown",
      "metadata": {
        "id": "xcYhHLzs1ClO"
      },
      "source": [
        "- Mean Absolute Error Loss\n",
        "- Mean Squared Error Loss\n",
        "- Negative Log-Likelihood Loss\n",
        "- Cross-Entropy Loss\n",
        "- Hinge Embedding Loss\n",
        "- Margin Ranking Loss\n",
        "- Triplet Margin Loss\n",
        "- Kullback-Leibler divergence"
      ]
    },
    {
      "cell_type": "code",
      "metadata": {
        "colab": {
          "base_uri": "https://localhost:8080/"
        },
        "id": "QB4cOpGD0TYL",
        "outputId": "aef446e3-f5a7-4ace-9ae4-b3b31e84e0af"
      },
      "source": [
        "# Mean Absolute Error (L1 Loss Function)\n",
        "torch.nn.L1Loss"
      ],
      "execution_count": 2,
      "outputs": [
        {
          "output_type": "execute_result",
          "data": {
            "text/plain": [
              "torch.nn.modules.loss.L1Loss"
            ]
          },
          "metadata": {
            "tags": []
          },
          "execution_count": 2
        }
      ]
    },
    {
      "cell_type": "markdown",
      "metadata": {
        "id": "ByWpa9GD1giS"
      },
      "source": [
        "### The Mean Absolute Error (MAE), \n",
        "also called L1 Loss, computes the average of the sum of absolute differences between actual values and predicted values.\n",
        "\n",
        "- It checks the size of errors in a set of predicted values, without caring about their positive or negative direction. If the absolute values of the errors are not used, then negative values could cancel out the positive values. \n",
        "\n",
        "### When could it be used?\n",
        "\n",
        "Regression problems, especially when the distribution of the target variable has outliers, such as small or big values that are a great distance from the mean value. It is considered to be more robust to outliers."
      ]
    },
    {
      "cell_type": "code",
      "metadata": {
        "colab": {
          "base_uri": "https://localhost:8080/"
        },
        "id": "SPovvQke1UJc",
        "outputId": "368a7a89-86b5-423c-f26d-636f6911096a"
      },
      "source": [
        "import torch\n",
        "import torch.nn as nn\n",
        "\n",
        "input = torch.randn(3, 5, requires_grad=True)\n",
        "target  = torch.randn(3, 5)\n",
        "\n",
        "mae_loss = nn.L1Loss()\n",
        "output = mae_loss(input, target)\n",
        "output.backward()\n",
        "\n",
        "print('input: ', input)\n",
        "print('\\n')\n",
        "print('target: ', target)\n",
        "print('\\n')\n",
        "print('output: ', output)"
      ],
      "execution_count": 4,
      "outputs": [
        {
          "output_type": "stream",
          "text": [
            "input:  tensor([[-1.0252, -1.2273,  2.1666, -0.2985,  0.8494],\n",
            "        [ 0.9031, -0.2908, -1.1287,  2.2604, -0.2459],\n",
            "        [-1.2303,  0.6190, -1.7030,  0.3123, -0.0328]], requires_grad=True)\n",
            "\n",
            "\n",
            "target:  tensor([[ 0.1724, -0.3464,  0.4570, -0.7950,  0.2344],\n",
            "        [-0.4788,  1.1999,  0.8586,  1.0698,  0.6853],\n",
            "        [ 0.4542,  2.0963, -0.5281, -0.7242,  0.7771]])\n",
            "\n",
            "\n",
            "output:  tensor(1.2043, grad_fn=<L1LossBackward>)\n"
          ],
          "name": "stdout"
        }
      ]
    },
    {
      "cell_type": "markdown",
      "metadata": {
        "id": "-ZLNqkJo5Dbz"
      },
      "source": [
        "### Mean Squared Error Loss Function\n",
        "\n",
        "- The Mean Squared Error (MSE), also called L2 Loss, computes the average of the squared differences between actual values and predicted values.\n",
        "\n",
        "- Pytorch MSE Loss always outputs a positive result, regardless of the sign of actual and predicted values. To enhance the accuracy of the model, you should try to reduce the L2 Loss—a perfect value is 0.0. \n",
        "\n",
        "- The squaring implies that larger mistakes produce even larger errors than smaller ones. If the classifier is off by 100, the error is 10,000. If it’s off by 0.1, the error is 0.01. This punishes the model for making big mistakes and encourages small mistakes. \n",
        "\n",
        "#### When could it be used?\n",
        "\n",
        "MSE is the default loss function for most Pytorch regression problems."
      ]
    },
    {
      "cell_type": "code",
      "metadata": {
        "colab": {
          "base_uri": "https://localhost:8080/"
        },
        "id": "EWWKHZIB2xZO",
        "outputId": "12a13e12-3775-4b85-8944-604d6d58d138"
      },
      "source": [
        "import torch\n",
        "import torch.nn as nn\n",
        "\n",
        "input = torch.randn(3, 5, requires_grad=True)\n",
        "target = torch.randn(3, 5)\n",
        "mse_loss = nn.MSELoss()\n",
        "output = mse_loss(input, target)\n",
        "output.backward()\n",
        "\n",
        "print('input: ', input)\n",
        "print('target: ', target)\n",
        "print('output: ', output)"
      ],
      "execution_count": 5,
      "outputs": [
        {
          "output_type": "stream",
          "text": [
            "input:  tensor([[ 0.8523, -1.3665,  0.6249, -0.6967, -0.7355],\n",
            "        [ 0.3329, -0.8971,  0.9863,  0.3671,  0.6443],\n",
            "        [ 0.6668, -1.2661,  0.5525, -0.3341, -1.6084]], requires_grad=True)\n",
            "target:  tensor([[ 0.3456, -0.9998,  1.0659,  0.0793, -0.4155],\n",
            "        [-0.1083, -1.2269, -0.8508, -1.5564, -0.2218],\n",
            "        [ 0.6619, -1.0600, -1.0834,  1.1961, -0.9221]])\n",
            "output:  tensor(0.9967, grad_fn=<MseLossBackward>)\n"
          ],
          "name": "stdout"
        }
      ]
    },
    {
      "cell_type": "markdown",
      "metadata": {
        "id": "AmatQrEP6lnc"
      },
      "source": [
        "### Negative Log-Likelihood Loss Function\n",
        "\n",
        "- `The Negative Log-Likelihood Loss function (NLL)` is applied only on models with the `softmax function` as an output activation layer. Softmax refers to an activation function that calculates the normalized exponential function of every unit in the layer.\n",
        "\n",
        "- The function takes an input vector of size N, and then modifies the values such that every one of them falls between `0` and `1`. Furthermore, it normalizes the output such that the sum of the `N` values of the vector equals to 1.\n",
        "\n",
        "- NLL uses a negative connotation since the probabilities (or likelihoods) vary between zero and one, and the logarithms of values in this range are negative. In the end, the loss value becomes positive.\n",
        "\n",
        "- In NLL, minimizing the loss function assists us get a better output. The negative log likelihood is retrieved from approximating the maximum likelihood estimation (MLE). This means that we try to maximize the model’s log likelihood, and as a result, minimize the NLL.  \n",
        "\n",
        "- In NLL, the model is punished for making the correct prediction with smaller probabilities and encouraged for making the prediction with higher probabilities. The logarithm does the punishment. \n",
        "\n",
        "- NLL does not only care about the prediction being correct but also about the model being certain about the prediction with a high score. \n",
        "\n",
        "### When could it be used?\n",
        "\n",
        "Multi-class classification problems"
      ]
    },
    {
      "cell_type": "code",
      "metadata": {
        "colab": {
          "base_uri": "https://localhost:8080/"
        },
        "id": "BbOeva7t5oOR",
        "outputId": "b218bfd2-9b8a-49f4-a0ba-764bac5eb519"
      },
      "source": [
        "import torch\n",
        "import torch.nn as nn\n",
        "\n",
        "# size of input (N x C) is = 3 x 5\n",
        "input = torch.randn(3, 5, requires_grad=True)\n",
        "# every element in target should have 0 <= value < C\n",
        "target = torch.tensor([1, 0, 4])\n",
        "\n",
        "m = nn.LogSoftmax(dim=1)\n",
        "nll_loss = nn.NLLLoss()\n",
        "output = nll_loss(m(input), target)\n",
        "output.backward()\n",
        "\n",
        "print('input: ', input)\n",
        "print('target: ', target)\n",
        "print('output: ', output)"
      ],
      "execution_count": 6,
      "outputs": [
        {
          "output_type": "stream",
          "text": [
            "input:  tensor([[-1.7276, -1.1597,  0.6714, -0.1937,  0.9647],\n",
            "        [-0.0751,  0.0918, -0.9354, -0.1855,  0.1878],\n",
            "        [-0.1395,  1.3248,  0.5484, -0.7773,  0.5547]], requires_grad=True)\n",
            "target:  tensor([1, 0, 4])\n",
            "output:  tensor(2.0318, grad_fn=<NllLossBackward>)\n"
          ],
          "name": "stdout"
        }
      ]
    },
    {
      "cell_type": "markdown",
      "metadata": {
        "id": "EqJ3Nw909OGd"
      },
      "source": [
        "### Cross-Entropy Loss Function\n",
        "\n",
        "- This loss function computes the difference between two probability distributions for a provided set of occurrences or random variables.\n",
        "\n",
        "- It is used to work out a score that summarizes the average difference between the predicted values and the actual values. To enhance the accuracy of the model, you should try to minimize the score—the cross-entropy score is between 0 and 1, and a perfect value is 0.\n",
        "\n",
        "- Other loss functions, like the squared loss, punish incorrect predictions. Cross-Entropy penalizes greatly for being very confident and wrong.\n",
        "\n",
        "- Unlike the Negative Log-Likelihood Loss, which doesn’t punish based on prediction confidence, Cross-Entropy punishes incorrect but confident predictions, as well as correct but less confident predictions. \n",
        "\n",
        "- The Cross-Entropy function has a wide range of variants, of which the most common type is the Binary Cross-Entropy (BCE). The BCE Loss is mainly used for binary classification models; that is, models having only 2 classes. \n",
        "\n",
        "### When could it be used?\n",
        "\n",
        "- Binary classification tasks, for which it’s the default loss function in Pytorch.\n",
        "- Creating confident models—the prediction will be accurate and with a higher probability."
      ]
    },
    {
      "cell_type": "code",
      "metadata": {
        "colab": {
          "base_uri": "https://localhost:8080/"
        },
        "id": "g5GUzpGt8tWJ",
        "outputId": "77d6fbd3-6d75-42d0-da53-ac8ec9f4dcd9"
      },
      "source": [
        "import torch\n",
        "import torch.nn as nn\n",
        "\n",
        "input = torch.randn(3, 5, requires_grad=True)\n",
        "target = torch.empty(3, dtype=torch.long).random_(5)\n",
        "\n",
        "cross_entropy_loss = nn.CrossEntropyLoss()\n",
        "output = cross_entropy_loss(input, target)\n",
        "output.backward()\n",
        "\n",
        "print('input: ', input)\n",
        "print('target: ', target)\n",
        "print('output: ', output)"
      ],
      "execution_count": 7,
      "outputs": [
        {
          "output_type": "stream",
          "text": [
            "input:  tensor([[-0.6597, -1.0024,  1.0089, -0.7549, -0.4716],\n",
            "        [ 0.6726,  0.5537, -0.3322, -0.8723, -1.3208],\n",
            "        [-0.7279,  0.4643,  0.2345,  2.5767,  0.7850]], requires_grad=True)\n",
            "target:  tensor([2, 2, 0])\n",
            "output:  tensor(2.0535, grad_fn=<NllLossBackward>)\n"
          ],
          "name": "stdout"
        }
      ]
    },
    {
      "cell_type": "code",
      "metadata": {
        "id": "8CWzHsGY-SzW"
      },
      "source": [
        ""
      ],
      "execution_count": null,
      "outputs": []
    }
  ]
}