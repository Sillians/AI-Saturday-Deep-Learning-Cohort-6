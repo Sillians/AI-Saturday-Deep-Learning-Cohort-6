{
  "nbformat": 4,
  "nbformat_minor": 0,
  "metadata": {
    "kernelspec": {
      "display_name": "Python 3",
      "language": "python",
      "name": "python3"
    },
    "colab": {
      "name": "Part 1 - Tensors in PyTorch (Exercises).ipynb",
      "provenance": [],
      "collapsed_sections": [],
      "include_colab_link": true
    }
  },
  "cells": [
    {
      "cell_type": "markdown",
      "metadata": {
        "id": "view-in-github",
        "colab_type": "text"
      },
      "source": [
        "<a href=\"https://colab.research.google.com/github/Sillians/AI-Saturday-Deep-Learning-Cohort-6/blob/main/Part_1_Tensors_in_PyTorch_(Exercises).ipynb\" target=\"_parent\"><img src=\"https://colab.research.google.com/assets/colab-badge.svg\" alt=\"Open In Colab\"/></a>"
      ]
    },
    {
      "cell_type": "markdown",
      "metadata": {
        "id": "Dn_8RrinAgaH"
      },
      "source": [
        "# Introduction to Deep Learning with PyTorch\n",
        "\n",
        "In this notebook, you'll get introduced to [PyTorch](http://pytorch.org/), a framework for building and training neural networks. PyTorch in a lot of ways behaves like the arrays you love from Numpy. These Numpy arrays, after all, are just tensors. PyTorch takes these tensors and makes it simple to move them to GPUs for the faster processing needed when training neural networks. It also provides a module that automatically calculates gradients (for backpropagation!) and another module specifically for building neural networks. All together, PyTorch ends up being more coherent with Python and the Numpy/Scipy stack compared to TensorFlow and other frameworks.\n",
        "\n"
      ]
    },
    {
      "cell_type": "markdown",
      "metadata": {
        "id": "bDxPorXMAgaK"
      },
      "source": [
        "## Neural Networks\n",
        "\n",
        "Deep Learning is based on artificial neural networks which have been around in some form since the late 1950s. The networks are built from individual parts approximating neurons, typically called units or simply \"neurons.\" Each unit has some number of weighted inputs. These weighted inputs are summed together (a linear combination) then passed through an activation function to get the unit's output.\n",
        "\n",
        "<img src=\"assets/simple_neuron.png\" width=400px>\n",
        "\n",
        "Mathematically this looks like: \n",
        "\n",
        "$$\n",
        "\\begin{align}\n",
        "y &= f(w_1 x_1 + w_2 x_2 + b) \\\\\n",
        "y &= f\\left(\\sum_i w_i x_i +b \\right)\n",
        "\\end{align}\n",
        "$$\n",
        "\n",
        "With vectors this is the dot/inner product of two vectors:\n",
        "\n",
        "$$\n",
        "h = \\begin{bmatrix}\n",
        "x_1 \\, x_2 \\cdots  x_n\n",
        "\\end{bmatrix}\n",
        "\\cdot \n",
        "\\begin{bmatrix}\n",
        "           w_1 \\\\\n",
        "           w_2 \\\\\n",
        "           \\vdots \\\\\n",
        "           w_n\n",
        "\\end{bmatrix}\n",
        "$$"
      ]
    },
    {
      "cell_type": "markdown",
      "metadata": {
        "id": "3MfPKRjGAgaM"
      },
      "source": [
        "## Tensors\n",
        "\n",
        "It turns out neural network computations are just a bunch of linear algebra operations on *tensors*, a generalization of matrices. A vector is a 1-dimensional tensor, a matrix is a 2-dimensional tensor, an array with three indices is a 3-dimensional tensor (RGB color images for example). The fundamental data structure for neural networks are tensors and PyTorch (as well as pretty much every other deep learning framework) is built around tensors.\n",
        "\n",
        "<img src=\"assets/tensor_examples.svg\" width=600px>\n",
        "\n",
        "With the basics covered, it's time to explore how we can use PyTorch to build a simple neural network."
      ]
    },
    {
      "cell_type": "code",
      "metadata": {
        "id": "FgjIy06kAgaU"
      },
      "source": [
        "# First, import PyTorch\n",
        "import torch"
      ],
      "execution_count": null,
      "outputs": []
    },
    {
      "cell_type": "code",
      "metadata": {
        "id": "M1D21V5yAgaX"
      },
      "source": [
        "def activation(x):\n",
        "    \"\"\" Sigmoid activation function \n",
        "    \n",
        "        Arguments\n",
        "        ---------\n",
        "        x: torch.Tensor\n",
        "    \"\"\"\n",
        "    return 1/(1+torch.exp(-x))"
      ],
      "execution_count": null,
      "outputs": []
    },
    {
      "cell_type": "code",
      "metadata": {
        "id": "nhEnKZ61Agab"
      },
      "source": [
        "### Generate some data\n",
        "torch.manual_seed(7) # Set the random seed so things are predictable\n",
        "\n",
        "# Features are 5 random normal variables\n",
        "features = torch.randn((1, 5))\n",
        "# True weights for our data, random normal variables again\n",
        "weights = torch.randn_like(features)\n",
        "# and a true bias term\n",
        "bias = torch.randn((1, 1))"
      ],
      "execution_count": null,
      "outputs": []
    },
    {
      "cell_type": "markdown",
      "metadata": {
        "id": "fJSHxC9JAgae"
      },
      "source": [
        "Above I generated data we can use to get the output of our simple network. This is all just random for now, going forward we'll start using normal data. Going through each relevant line:\n",
        "\n",
        "`features = torch.randn((1, 5))` creates a tensor with shape `(1, 5)`, one row and five columns, that contains values randomly distributed according to the normal distribution with a mean of zero and standard deviation of one. \n",
        "\n",
        "`weights = torch.randn_like(features)` creates another tensor with the same shape as `features`, again containing values from a normal distribution.\n",
        "\n",
        "Finally, `bias = torch.randn((1, 1))` creates a single value from a normal distribution.\n",
        "\n",
        "PyTorch tensors can be added, multiplied, subtracted, etc, just like Numpy arrays. In general, you'll use PyTorch tensors pretty much the same way you'd use Numpy arrays. They come with some nice benefits though such as GPU acceleration which we'll get to later. For now, use the generated data to calculate the output of this simple single layer network. \n",
        "> **Exercise**: Calculate the output of the network with input features `features`, weights `weights`, and bias `bias`. Similar to Numpy, PyTorch has a [`torch.sum()`](https://pytorch.org/docs/stable/torch.html#torch.sum) function, as well as a `.sum()` method on tensors, for taking sums. Use the function `activation` defined above as the activation function."
      ]
    },
    {
      "cell_type": "code",
      "metadata": {
        "id": "aQwTV_fuAgaf",
        "outputId": "2f9a27dd-cc59-4f19-d57b-6d1386def1dc",
        "colab": {
          "base_uri": "https://localhost:8080/",
          "height": 180
        }
      },
      "source": [
        "## Calculate the output of this network using the weights and bias tensors\n",
        "output = torch.sum(torch.matmul(features , weights) , bias)"
      ],
      "execution_count": null,
      "outputs": [
        {
          "output_type": "error",
          "ename": "RuntimeError",
          "evalue": "ignored",
          "traceback": [
            "\u001b[0;31m---------------------------------------------------------------------------\u001b[0m",
            "\u001b[0;31mRuntimeError\u001b[0m                              Traceback (most recent call last)",
            "\u001b[0;32m<ipython-input-4-b245574b4cc2>\u001b[0m in \u001b[0;36m<module>\u001b[0;34m()\u001b[0m\n\u001b[1;32m      1\u001b[0m \u001b[0;31m## Calculate the output of this network using the weights and bias tensors\u001b[0m\u001b[0;34m\u001b[0m\u001b[0;34m\u001b[0m\u001b[0;34m\u001b[0m\u001b[0m\n\u001b[0;32m----> 2\u001b[0;31m \u001b[0moutput\u001b[0m \u001b[0;34m=\u001b[0m \u001b[0mtorch\u001b[0m\u001b[0;34m.\u001b[0m\u001b[0msum\u001b[0m\u001b[0;34m(\u001b[0m\u001b[0mtorch\u001b[0m\u001b[0;34m.\u001b[0m\u001b[0mmatmul\u001b[0m\u001b[0;34m(\u001b[0m\u001b[0mfeatures\u001b[0m \u001b[0;34m,\u001b[0m \u001b[0mweights\u001b[0m\u001b[0;34m)\u001b[0m \u001b[0;34m,\u001b[0m \u001b[0mbias\u001b[0m\u001b[0;34m)\u001b[0m\u001b[0;34m\u001b[0m\u001b[0;34m\u001b[0m\u001b[0m\n\u001b[0m",
            "\u001b[0;31mRuntimeError\u001b[0m: mat1 and mat2 shapes cannot be multiplied (1x5 and 1x5)"
          ]
        }
      ]
    },
    {
      "cell_type": "markdown",
      "metadata": {
        "id": "2aXg11O1Agai"
      },
      "source": [
        "You can do the multiplication and sum in the same operation using a matrix multiplication. In general, you'll want to use matrix multiplications since they are more efficient and accelerated using modern libraries and high-performance computing on GPUs.\n",
        "\n",
        "Here, we want to do a matrix multiplication of the features and the weights. For this we can use [`torch.mm()`](https://pytorch.org/docs/stable/torch.html#torch.mm) or [`torch.matmul()`](https://pytorch.org/docs/stable/torch.html#torch.matmul) which is somewhat more complicated and supports broadcasting. If we try to do it with `features` and `weights` as they are, we'll get an error\n",
        "\n",
        "```python\n",
        ">> torch.mm(features, weights)\n",
        "\n",
        "---------------------------------------------------------------------------\n",
        "RuntimeError                              Traceback (most recent call last)\n",
        "<ipython-input-13-15d592eb5279> in <module>()\n",
        "----> 1 torch.mm(features, weights)\n",
        "\n",
        "RuntimeError: size mismatch, m1: [1 x 5], m2: [1 x 5] at /Users/soumith/minicondabuild3/conda-bld/pytorch_1524590658547/work/aten/src/TH/generic/THTensorMath.c:2033\n",
        "```\n",
        "\n",
        "As you're building neural networks in any framework, you'll see this often. Really often. What's happening here is our tensors aren't the correct shapes to perform a matrix multiplication. Remember that for matrix multiplications, the number of columns in the first tensor must equal to the number of rows in the second tensor. Both `features` and `weights` have the same shape, `(1, 5)`. This means we need to change the shape of `weights` to get the matrix multiplication to work.\n",
        "\n",
        "**Note:** To see the shape of a tensor called `tensor`, use `tensor.shape`. If you're building neural networks, you'll be using this method often.\n",
        "\n",
        "There are a few options here: [`weights.reshape()`](https://pytorch.org/docs/stable/tensors.html#torch.Tensor.reshape), [`weights.resize_()`](https://pytorch.org/docs/stable/tensors.html#torch.Tensor.resize_), and [`weights.view()`](https://pytorch.org/docs/stable/tensors.html#torch.Tensor.view).\n",
        "\n",
        "* `weights.reshape(a, b)` will return a new tensor with the same data as `weights` with size `(a, b)` sometimes, and sometimes a clone, as in it copies the data to another part of memory.\n",
        "* `weights.resize_(a, b)` returns the same tensor with a different shape. However, if the new shape results in fewer elements than the original tensor, some elements will be removed from the tensor (but not from memory). If the new shape results in more elements than the original tensor, new elements will be uninitialized in memory. Here I should note that the underscore at the end of the method denotes that this method is performed **in-place**. Here is a great forum thread to [read more about in-place operations](https://discuss.pytorch.org/t/what-is-in-place-operation/16244) in PyTorch.\n",
        "* `weights.view(a, b)` will return a new tensor with the same data as `weights` with size `(a, b)`.\n",
        "\n",
        "I usually use `.view()`, but any of the three methods will work for this. So, now we can reshape `weights` to have five rows and one column with something like `weights.view(5, 1)`.\n",
        "\n",
        "> **Exercise**: Calculate the output of our little network using matrix multiplication."
      ]
    },
    {
      "cell_type": "code",
      "metadata": {
        "id": "34B-WfvVAgai",
        "outputId": "598d63cd-3772-4c8a-8394-eb9038ebf52a",
        "colab": {
          "base_uri": "https://localhost:8080/"
        }
      },
      "source": [
        "## Calculate the output of this network using matrix multiplication\n",
        "weights = weights.view(5,1)\n",
        "output = torch.matmul(features , weights)\n",
        "y  = activation(output + bias)\n",
        "print(y)"
      ],
      "execution_count": null,
      "outputs": [
        {
          "output_type": "stream",
          "text": [
            "tensor([[0.1595]])\n"
          ],
          "name": "stdout"
        }
      ]
    },
    {
      "cell_type": "markdown",
      "metadata": {
        "id": "kd-UXeaIAgam"
      },
      "source": [
        "### Stack them up!\n",
        "\n",
        "That's how you can calculate the output for a single neuron. The real power of this algorithm happens when you start stacking these individual units into layers and stacks of layers, into a network of neurons. The output of one layer of neurons becomes the input for the next layer. With multiple input units and output units, we now need to express the weights as a matrix.\n",
        "\n",
        "<img src='assets/multilayer_diagram_weights.png' width=450px>\n",
        "\n",
        "The first layer shown on the bottom here are the inputs, understandably called the **input layer**. The middle layer is called the **hidden layer**, and the final layer (on the right) is the **output layer**. We can express this network mathematically with matrices again and use matrix multiplication to get linear combinations for each unit in one operation. For example, the hidden layer ($h_1$ and $h_2$ here) can be calculated \n",
        "\n",
        "$$\n",
        "\\vec{h} = [h_1 \\, h_2] = \n",
        "\\begin{bmatrix}\n",
        "x_1 \\, x_2 \\cdots \\, x_n\n",
        "\\end{bmatrix}\n",
        "\\cdot \n",
        "\\begin{bmatrix}\n",
        "           w_{11} & w_{12} \\\\\n",
        "           w_{21} &w_{22} \\\\\n",
        "           \\vdots &\\vdots \\\\\n",
        "           w_{n1} &w_{n2}\n",
        "\\end{bmatrix}\n",
        "$$\n",
        "\n",
        "The output for this small network is found by treating the hidden layer as inputs for the output unit. The network output is expressed simply\n",
        "\n",
        "$$\n",
        "y =  f_2 \\! \\left(\\, f_1 \\! \\left(\\vec{x} \\, \\mathbf{W_1}\\right) \\mathbf{W_2} \\right)\n",
        "$$"
      ]
    },
    {
      "cell_type": "code",
      "metadata": {
        "id": "0mvMtXPTKfAs"
      },
      "source": [
        "# features = torch.randn((1, 3))\n",
        "# features.shape[1]"
      ],
      "execution_count": null,
      "outputs": []
    },
    {
      "cell_type": "code",
      "metadata": {
        "id": "hfZ9odsoAgan"
      },
      "source": [
        "### Generate some data\n",
        "torch.manual_seed(7) # Set the random seed so things are predictable\n",
        "\n",
        "# Features are 3 random normal variables\n",
        "features = torch.randn((1, 3))\n",
        "\n",
        "# Define the size of each layer in our network\n",
        "n_input = features.shape[1]     # Number of input units, must match number of input features\n",
        "n_hidden = 2                    # Number of hidden units \n",
        "n_output = 1                    # Number of output units\n",
        "\n",
        "# Weights for inputs to hidden layer\n",
        "W1 = torch.randn(n_input, n_hidden)\n",
        "# Weights for hidden layer to output layer\n",
        "W2 = torch.randn(n_hidden, n_output)\n",
        "\n",
        "# and bias terms for hidden and output layers\n",
        "B1 = torch.randn((1, n_hidden))\n",
        "B2 = torch.randn((1, n_output))"
      ],
      "execution_count": null,
      "outputs": []
    },
    {
      "cell_type": "markdown",
      "metadata": {
        "id": "IR_0Wn4nAgas"
      },
      "source": [
        "> **Exercise:** Calculate the output for this multi-layer network using the weights `W1` & `W2`, and the biases, `B1` & `B2`. "
      ]
    },
    {
      "cell_type": "code",
      "metadata": {
        "id": "V8PY8uAgAgat",
        "outputId": "40af3155-1b20-4ead-d5b0-41b0b04dc76e",
        "colab": {
          "base_uri": "https://localhost:8080/"
        }
      },
      "source": [
        "## Your solution here\n",
        "# Computation of inout layer\n",
        "output_input = activation(torch.add(torch.matmul(features, W1) , B1))\n",
        "\n",
        "# Pass in the output from input layer\n",
        "output_hidden = activation(torch.add(torch.matmul(output_input, W2) , B2))\n",
        "\n",
        "print(output_hidden)"
      ],
      "execution_count": null,
      "outputs": [
        {
          "output_type": "stream",
          "text": [
            "tensor([[0.3171]])\n"
          ],
          "name": "stdout"
        }
      ]
    },
    {
      "cell_type": "markdown",
      "metadata": {
        "id": "3Y7OHCGkAgaz"
      },
      "source": [
        "If you did this correctly, you should see the output `tensor([[ 0.3171]])`.\n",
        "\n",
        "The number of hidden units a parameter of the network, often called a **hyperparameter** to differentiate it from the weights and biases parameters. As you'll see later when we discuss training a neural network, the more hidden units a network has, and the more layers, the better able it is to learn from data and make accurate predictions."
      ]
    },
    {
      "cell_type": "markdown",
      "metadata": {
        "id": "5ZjHMudDAga0"
      },
      "source": [
        "## Numpy to Torch and back\n",
        "\n",
        "Special bonus section! PyTorch has a great feature for converting between Numpy arrays and Torch tensors. To create a tensor from a Numpy array, use `torch.from_numpy()`. To convert a tensor to a Numpy array, use the `.numpy()` method."
      ]
    },
    {
      "cell_type": "code",
      "metadata": {
        "id": "eQf_E83NAga0",
        "outputId": "0e516799-d347-40b0-8505-bcc3de19fcfa",
        "colab": {
          "base_uri": "https://localhost:8080/"
        }
      },
      "source": [
        "import numpy as np\n",
        "a = np.random.rand(4,3)\n",
        "a"
      ],
      "execution_count": null,
      "outputs": [
        {
          "output_type": "execute_result",
          "data": {
            "text/plain": [
              "array([[0.67511424, 0.5380681 , 0.20985256],\n",
              "       [0.09179062, 0.20149651, 0.95500344],\n",
              "       [0.31209318, 0.10327238, 0.81460535],\n",
              "       [0.27965664, 0.64195189, 0.47645512]])"
            ]
          },
          "metadata": {
            "tags": []
          },
          "execution_count": 18
        }
      ]
    },
    {
      "cell_type": "code",
      "metadata": {
        "id": "Dtm-a87vAga3",
        "outputId": "8afc2c18-92de-4778-f963-1db088f743cd",
        "colab": {
          "base_uri": "https://localhost:8080/"
        }
      },
      "source": [
        "b = torch.from_numpy(a)\n",
        "b"
      ],
      "execution_count": null,
      "outputs": [
        {
          "output_type": "execute_result",
          "data": {
            "text/plain": [
              "tensor([[0.6751, 0.5381, 0.2099],\n",
              "        [0.0918, 0.2015, 0.9550],\n",
              "        [0.3121, 0.1033, 0.8146],\n",
              "        [0.2797, 0.6420, 0.4765]], dtype=torch.float64)"
            ]
          },
          "metadata": {
            "tags": []
          },
          "execution_count": 19
        }
      ]
    },
    {
      "cell_type": "code",
      "metadata": {
        "id": "6O16M1V5Aga6",
        "outputId": "6e8592d0-2675-463a-e7e0-d75db8a2cad4",
        "colab": {
          "base_uri": "https://localhost:8080/"
        }
      },
      "source": [
        "b.numpy()"
      ],
      "execution_count": null,
      "outputs": [
        {
          "output_type": "execute_result",
          "data": {
            "text/plain": [
              "array([[0.67511424, 0.5380681 , 0.20985256],\n",
              "       [0.09179062, 0.20149651, 0.95500344],\n",
              "       [0.31209318, 0.10327238, 0.81460535],\n",
              "       [0.27965664, 0.64195189, 0.47645512]])"
            ]
          },
          "metadata": {
            "tags": []
          },
          "execution_count": 20
        }
      ]
    },
    {
      "cell_type": "markdown",
      "metadata": {
        "id": "ARYw3-V_Aga9"
      },
      "source": [
        "The memory is shared between the Numpy array and Torch tensor, so if you change the values in-place of one object, the other will change as well."
      ]
    },
    {
      "cell_type": "code",
      "metadata": {
        "id": "reX2JWVAAga-",
        "outputId": "9297d243-2a5c-4a56-9aa6-a4057e21cc72",
        "colab": {
          "base_uri": "https://localhost:8080/"
        }
      },
      "source": [
        "# Multiply PyTorch Tensor by 2, in place\n",
        "b.mul_(2)"
      ],
      "execution_count": null,
      "outputs": [
        {
          "output_type": "execute_result",
          "data": {
            "text/plain": [
              "tensor([[1.3502, 1.0761, 0.4197],\n",
              "        [0.1836, 0.4030, 1.9100],\n",
              "        [0.6242, 0.2065, 1.6292],\n",
              "        [0.5593, 1.2839, 0.9529]], dtype=torch.float64)"
            ]
          },
          "metadata": {
            "tags": []
          },
          "execution_count": 21
        }
      ]
    },
    {
      "cell_type": "code",
      "metadata": {
        "id": "yCaDLSXdAgbB",
        "outputId": "d552c0e3-9c07-4267-f0ac-5cd8e588673a",
        "colab": {
          "base_uri": "https://localhost:8080/"
        }
      },
      "source": [
        "# Numpy array matches new values from Tensor\n",
        "a"
      ],
      "execution_count": null,
      "outputs": [
        {
          "output_type": "execute_result",
          "data": {
            "text/plain": [
              "array([[1.35022848, 1.0761362 , 0.41970511],\n",
              "       [0.18358124, 0.40299302, 1.91000689],\n",
              "       [0.62418636, 0.20654477, 1.62921071],\n",
              "       [0.55931328, 1.28390377, 0.95291025]])"
            ]
          },
          "metadata": {
            "tags": []
          },
          "execution_count": 22
        }
      ]
    },
    {
      "cell_type": "code",
      "metadata": {
        "id": "FCdIeW30cL4m",
        "outputId": "8f217906-54e9-4dee-8b35-7c5da89b75f7",
        "colab": {
          "base_uri": "https://localhost:8080/"
        }
      },
      "source": [
        "c = torch.randn((5, 5, 4))\n",
        "c"
      ],
      "execution_count": null,
      "outputs": [
        {
          "output_type": "execute_result",
          "data": {
            "text/plain": [
              "tensor([[[-1.3032e+00,  8.7478e-02, -1.3850e+00,  5.0356e-01],\n",
              "         [-8.3528e-02, -2.3478e-02,  1.7438e-01,  2.2983e+00],\n",
              "         [ 1.0956e+00,  4.8235e-01,  1.3989e+00,  1.4059e+00],\n",
              "         [-1.4013e+00,  1.2973e+00,  1.6409e+00, -1.0567e+00],\n",
              "         [ 2.5116e+00, -1.2548e+00,  8.1646e-01, -1.0654e+00]],\n",
              "\n",
              "        [[-1.7819e-01, -2.5950e-01, -1.4488e-02, -3.8389e-01],\n",
              "         [-1.0073e-01,  2.3701e-01,  6.3268e-01, -9.1677e-02],\n",
              "         [ 1.6243e+00,  1.5673e-03, -4.3754e-01, -2.1085e+00],\n",
              "         [-5.3208e-01,  2.9914e-01, -1.4204e+00, -1.6345e-01],\n",
              "         [ 1.3324e-01,  1.8255e-01, -5.1463e-01,  8.0052e-01]],\n",
              "\n",
              "        [[-9.3884e-01, -1.2370e+00, -6.2567e-02,  4.4951e-01],\n",
              "         [-8.8580e-01,  1.1970e+00,  4.6746e-01, -1.4394e-01],\n",
              "         [-3.6766e-01, -8.8218e-01,  5.4601e-01,  1.4851e-01],\n",
              "         [-2.2578e+00,  4.0430e-01,  5.7220e-01,  3.0781e-01],\n",
              "         [ 1.2877e+00,  8.6844e-01, -1.3822e+00, -9.6323e-01]],\n",
              "\n",
              "        [[-3.9846e-01, -1.7317e-01,  7.5688e-01,  9.8623e-01],\n",
              "         [ 1.1178e+00,  1.1286e+00,  1.4160e-01, -5.4582e-01],\n",
              "         [-5.3682e-01,  8.2888e-01,  1.0571e+00, -1.1047e+00],\n",
              "         [ 1.1572e+00,  8.8943e-02,  2.6587e-01, -1.9068e-01],\n",
              "         [ 3.8364e-01,  1.9126e+00, -1.2145e+00,  1.7711e+00]],\n",
              "\n",
              "        [[ 7.5629e-02, -1.5253e-01,  1.9583e-01, -1.5688e+00],\n",
              "         [ 5.6890e-01,  1.3331e-01,  5.6001e-01, -7.3514e-01],\n",
              "         [-2.2399e-01, -7.9547e-01, -2.1339e+00, -7.4927e-01],\n",
              "         [ 1.4535e+00, -1.5414e+00, -3.3146e-01,  5.5046e-01],\n",
              "         [ 1.2676e-01, -1.5152e+00, -9.1270e-01,  1.2716e+00]]])"
            ]
          },
          "metadata": {
            "tags": []
          },
          "execution_count": 23
        }
      ]
    },
    {
      "cell_type": "code",
      "metadata": {
        "id": "Q67rMBIMcsiF",
        "outputId": "245db213-a5c9-4465-8cee-40459699b1a3",
        "colab": {
          "base_uri": "https://localhost:8080/"
        }
      },
      "source": [
        "c.numpy()"
      ],
      "execution_count": null,
      "outputs": [
        {
          "output_type": "execute_result",
          "data": {
            "text/plain": [
              "array([[[-1.30321670e+00,  8.74783769e-02, -1.38496137e+00,\n",
              "          5.03563881e-01],\n",
              "        [-8.35282281e-02, -2.34779324e-02,  1.74375355e-01,\n",
              "          2.29834270e+00],\n",
              "        [ 1.09558046e+00,  4.82354164e-01,  1.39891839e+00,\n",
              "          1.40585291e+00],\n",
              "        [-1.40125084e+00,  1.29733586e+00,  1.64093328e+00,\n",
              "         -1.05668414e+00],\n",
              "        [ 2.51160288e+00, -1.25478518e+00,  8.16456497e-01,\n",
              "         -1.06539893e+00]],\n",
              "\n",
              "       [[-1.78192616e-01, -2.59498864e-01, -1.44879408e-02,\n",
              "         -3.83890986e-01],\n",
              "        [-1.00734316e-01,  2.37014592e-01,  6.32682085e-01,\n",
              "         -9.16771665e-02],\n",
              "        [ 1.62431645e+00,  1.56727072e-03, -4.37540710e-01,\n",
              "         -2.10853338e+00],\n",
              "        [-5.32078862e-01,  2.99141854e-01, -1.42044449e+00,\n",
              "         -1.63454875e-01],\n",
              "        [ 1.33239806e-01,  1.82545409e-01, -5.14632344e-01,\n",
              "          8.00518811e-01]],\n",
              "\n",
              "       [[-9.38839138e-01, -1.23696864e+00, -6.25673980e-02,\n",
              "          4.49509412e-01],\n",
              "        [-8.85797203e-01,  1.19701838e+00,  4.67462063e-01,\n",
              "         -1.43939957e-01],\n",
              "        [-3.67664158e-01, -8.82180989e-01,  5.46012044e-01,\n",
              "          1.48512125e-01],\n",
              "        [-2.25778222e+00,  4.04298425e-01,  5.72198987e-01,\n",
              "          3.07813287e-01],\n",
              "        [ 1.28771985e+00,  8.68438065e-01, -1.38219845e+00,\n",
              "         -9.63228583e-01]],\n",
              "\n",
              "       [[-3.98458838e-01, -1.73167616e-01,  7.56880939e-01,\n",
              "          9.86226261e-01],\n",
              "        [ 1.11781180e+00,  1.12857127e+00,  1.41598508e-01,\n",
              "         -5.45822978e-01],\n",
              "        [-5.36822438e-01,  8.28882635e-01,  1.05706978e+00,\n",
              "         -1.10469377e+00],\n",
              "        [ 1.15718675e+00,  8.89428779e-02,  2.65873730e-01,\n",
              "         -1.90681383e-01],\n",
              "        [ 3.83637458e-01,  1.91256893e+00, -1.21450365e+00,\n",
              "          1.77113795e+00]],\n",
              "\n",
              "       [[ 7.56291375e-02, -1.52530164e-01,  1.95830375e-01,\n",
              "         -1.56875408e+00],\n",
              "        [ 5.68896413e-01,  1.33305430e-01,  5.60008943e-01,\n",
              "         -7.35141754e-01],\n",
              "        [-2.23988980e-01, -7.95469105e-01, -2.13393021e+00,\n",
              "         -7.49269903e-01],\n",
              "        [ 1.45353532e+00, -1.54142177e+00, -3.31459492e-01,\n",
              "          5.50463319e-01],\n",
              "        [ 1.26760244e-01, -1.51523161e+00, -9.12695229e-01,\n",
              "          1.27160573e+00]]], dtype=float32)"
            ]
          },
          "metadata": {
            "tags": []
          },
          "execution_count": 24
        }
      ]
    },
    {
      "cell_type": "markdown",
      "metadata": {
        "id": "h5UY8uRZjMBN"
      },
      "source": [
        "### Practice"
      ]
    },
    {
      "cell_type": "code",
      "metadata": {
        "id": "4jLBM3vYdBr5"
      },
      "source": [
        "### Generate some data\n",
        "torch.manual_seed(7) # Set the random seed so things are predictable\n",
        "\n",
        "# Features are 3 random normal variables\n",
        "features = torch.randn((1, 5))\n",
        "\n",
        "# Define the size of each layer in our network\n",
        "n_input = features.shape[1]     # Number of input units, must match number of input features\n",
        "n_hidden_1 = 4                  # Number of first hidden units\n",
        "n_hidden_2 = 3                  # Number of second hidden units \n",
        "n_output = 2                    # Number of output units\n",
        "\n",
        "# Weights for inputs to hidden layer\n",
        "W1 = torch.randn(n_input, n_hidden_1)\n",
        "# Weights for first hidden layer to second hidden layer\n",
        "W2 = torch.randn(n_hidden_1, n_hidden_2)\n",
        "# Weights for second hiddden layer to output layer\n",
        "W3 = torch.randn(n_hidden_2, n_output)\n",
        "\n",
        "# and bias terms for hidden and output layers\n",
        "B1 = torch.randn((1, n_hidden_1))\n",
        "B2 = torch.randn((1, n_hidden_2))\n",
        "B3 = torch.randn((1, n_output))"
      ],
      "execution_count": null,
      "outputs": []
    },
    {
      "cell_type": "code",
      "metadata": {
        "id": "51MOAk2HhQVS",
        "outputId": "4f5852c2-628e-4014-d5b9-569b2a30cb87",
        "colab": {
          "base_uri": "https://localhost:8080/"
        }
      },
      "source": [
        "# Solution here\n",
        "# compute input layer \n",
        "output_input = activation(torch.add(torch.matmul(features, W1), B1))\n",
        "\n",
        "# Use output from input layer to compute the first hidden layer\n",
        "output_hidden_1 = activation(torch.add(torch.matmul(output_input, W2), B2))\n",
        "\n",
        "# Use ouput from first hidden layer to compute the second hidden layer which gives us the final ouput layer\n",
        "output = activation(torch.add(torch.matmul(output_hidden_1, W3), B3))\n",
        "\n",
        "# print the final output layer\n",
        "print(output)"
      ],
      "execution_count": null,
      "outputs": [
        {
          "output_type": "stream",
          "text": [
            "tensor([[0.1822, 0.2786]])\n"
          ],
          "name": "stdout"
        }
      ]
    },
    {
      "cell_type": "code",
      "metadata": {
        "id": "TpVdgpTTigcJ",
        "outputId": "816729dc-ba0a-405f-a976-0d97d5f208a8",
        "colab": {
          "base_uri": "https://localhost:8080/"
        }
      },
      "source": [
        "features"
      ],
      "execution_count": null,
      "outputs": [
        {
          "output_type": "execute_result",
          "data": {
            "text/plain": [
              "tensor([[-0.1468,  0.7861,  0.9468, -1.1143,  1.6908]])"
            ]
          },
          "metadata": {
            "tags": []
          },
          "execution_count": 27
        }
      ]
    },
    {
      "cell_type": "code",
      "metadata": {
        "id": "WmRFXmHViutQ"
      },
      "source": [
        ""
      ],
      "execution_count": null,
      "outputs": []
    }
  ]
}