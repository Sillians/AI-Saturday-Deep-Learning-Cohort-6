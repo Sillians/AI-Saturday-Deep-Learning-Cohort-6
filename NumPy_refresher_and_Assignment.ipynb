{
  "nbformat": 4,
  "nbformat_minor": 0,
  "metadata": {
    "kernelspec": {
      "display_name": "Python 3",
      "language": "python",
      "name": "python3"
    },
    "language_info": {
      "codemirror_mode": {
        "name": "ipython",
        "version": 3
      },
      "file_extension": ".py",
      "mimetype": "text/x-python",
      "name": "python",
      "nbconvert_exporter": "python",
      "pygments_lexer": "ipython3",
      "version": "3.7.3"
    },
    "colab": {
      "name": "NumPy refresher  and Assignment.ipynb",
      "provenance": [],
      "collapsed_sections": [],
      "include_colab_link": true
    }
  },
  "cells": [
    {
      "cell_type": "markdown",
      "metadata": {
        "id": "view-in-github",
        "colab_type": "text"
      },
      "source": [
        "<a href=\"https://colab.research.google.com/github/Sillians/AI-Saturday-Deep-Learning-Cohort-6/blob/main/NumPy_refresher_and_Assignment.ipynb\" target=\"_parent\"><img src=\"https://colab.research.google.com/assets/colab-badge.svg\" alt=\"Open In Colab\"/></a>"
      ]
    },
    {
      "cell_type": "markdown",
      "metadata": {
        "id": "1fDmvl-r9OcH"
      },
      "source": [
        "# NumPy refresher "
      ]
    },
    {
      "cell_type": "code",
      "metadata": {
        "id": "hzEQJ7ou9OcM"
      },
      "source": [
        "import numpy as np"
      ],
      "execution_count": null,
      "outputs": []
    },
    {
      "cell_type": "markdown",
      "metadata": {
        "id": "lRgwgqgv9Oca"
      },
      "source": [
        "## Scalars"
      ]
    },
    {
      "cell_type": "code",
      "metadata": {
        "id": "v_R1DpNR9Occ",
        "outputId": "b4dbd436-45c0-4dd1-b58c-a515cd968f5a",
        "colab": {
          "base_uri": "https://localhost:8080/",
          "height": 34
        }
      },
      "source": [
        "a = np.array(2)\n",
        "a = a + 2\n",
        "print(a, a.shape)"
      ],
      "execution_count": null,
      "outputs": [
        {
          "output_type": "stream",
          "text": [
            "4 ()\n"
          ],
          "name": "stdout"
        }
      ]
    },
    {
      "cell_type": "markdown",
      "metadata": {
        "id": "tjwTIv2C9Ocp"
      },
      "source": [
        "## Vectors"
      ]
    },
    {
      "cell_type": "code",
      "metadata": {
        "id": "aACYEY_99Ocr",
        "outputId": "d5d7c6e2-2b73-4916-d513-e6802224d0fa",
        "colab": {
          "base_uri": "https://localhost:8080/",
          "height": 34
        }
      },
      "source": [
        "b = np.array([1, 2, 3, 4])\n",
        "print(b, b.shape)"
      ],
      "execution_count": null,
      "outputs": [
        {
          "output_type": "stream",
          "text": [
            "[1 2 3 4] (4,)\n"
          ],
          "name": "stdout"
        }
      ]
    },
    {
      "cell_type": "code",
      "metadata": {
        "id": "XGZ6-m3F9Oc2",
        "outputId": "cabab72d-a800-45f4-9af7-35e599b02b15",
        "colab": {
          "base_uri": "https://localhost:8080/",
          "height": 85
        }
      },
      "source": [
        "b.shape = (4, 1)\n",
        "b"
      ],
      "execution_count": null,
      "outputs": [
        {
          "output_type": "execute_result",
          "data": {
            "text/plain": [
              "array([[1],\n",
              "       [2],\n",
              "       [3],\n",
              "       [4]])"
            ]
          },
          "metadata": {
            "tags": []
          },
          "execution_count": 7
        }
      ]
    },
    {
      "cell_type": "code",
      "metadata": {
        "id": "wpyFODpD9Oc_",
        "outputId": "61e95509-d07d-4971-da7f-875f85e03a04",
        "colab": {
          "base_uri": "https://localhost:8080/",
          "height": 85
        }
      },
      "source": [
        "c = b\n",
        "print(c)"
      ],
      "execution_count": null,
      "outputs": [
        {
          "output_type": "stream",
          "text": [
            "[[1]\n",
            " [2]\n",
            " [3]\n",
            " [4]]\n"
          ],
          "name": "stdout"
        }
      ]
    },
    {
      "cell_type": "code",
      "metadata": {
        "id": "-1zrx5om9OdH",
        "outputId": "09d7667b-3ec7-4da8-eca2-550c5b992dbe",
        "colab": {
          "base_uri": "https://localhost:8080/",
          "height": 34
        }
      },
      "source": [
        "print(b.T.dot(c))"
      ],
      "execution_count": null,
      "outputs": [
        {
          "output_type": "stream",
          "text": [
            "[[30]]\n"
          ],
          "name": "stdout"
        }
      ]
    },
    {
      "cell_type": "code",
      "metadata": {
        "id": "yiyhEVsecXeX",
        "outputId": "85af9ec9-fde5-4180-8d1f-43db184d079f",
        "colab": {
          "base_uri": "https://localhost:8080/",
          "height": 34
        }
      },
      "source": [
        "z = b.T.dot(c)\n",
        "print(z.shape)"
      ],
      "execution_count": null,
      "outputs": [
        {
          "output_type": "stream",
          "text": [
            "(1, 1)\n"
          ],
          "name": "stdout"
        }
      ]
    },
    {
      "cell_type": "markdown",
      "metadata": {
        "id": "bdhch3nV9OdS"
      },
      "source": [
        "## Matrices"
      ]
    },
    {
      "cell_type": "code",
      "metadata": {
        "id": "RjFgttwK9OdX",
        "outputId": "af1a068d-158d-465b-dfcb-a4e8129cb48f",
        "colab": {
          "base_uri": "https://localhost:8080/",
          "height": 85
        }
      },
      "source": [
        "b.shape = (4, 1)\n",
        "b"
      ],
      "execution_count": null,
      "outputs": [
        {
          "output_type": "execute_result",
          "data": {
            "text/plain": [
              "array([[1],\n",
              "       [2],\n",
              "       [3],\n",
              "       [4]])"
            ]
          },
          "metadata": {
            "tags": []
          },
          "execution_count": 11
        }
      ]
    },
    {
      "cell_type": "code",
      "metadata": {
        "id": "uZBaKFYq9Odg",
        "outputId": "ff1905a4-754f-4f23-8b46-23183f63783f",
        "colab": {
          "base_uri": "https://localhost:8080/",
          "height": 34
        }
      },
      "source": [
        "c = b.transpose()\n",
        "c"
      ],
      "execution_count": null,
      "outputs": [
        {
          "output_type": "execute_result",
          "data": {
            "text/plain": [
              "array([[1, 2, 3, 4]])"
            ]
          },
          "metadata": {
            "tags": []
          },
          "execution_count": 12
        }
      ]
    },
    {
      "cell_type": "code",
      "metadata": {
        "id": "rhxhQB8T9Odq",
        "outputId": "64fdbb1a-107d-4a71-dfeb-fb858f5842f5",
        "colab": {
          "base_uri": "https://localhost:8080/",
          "height": 85
        }
      },
      "source": [
        "b.dot(c)"
      ],
      "execution_count": null,
      "outputs": [
        {
          "output_type": "execute_result",
          "data": {
            "text/plain": [
              "array([[ 1,  2,  3,  4],\n",
              "       [ 2,  4,  6,  8],\n",
              "       [ 3,  6,  9, 12],\n",
              "       [ 4,  8, 12, 16]])"
            ]
          },
          "metadata": {
            "tags": []
          },
          "execution_count": 13
        }
      ]
    },
    {
      "cell_type": "code",
      "metadata": {
        "id": "mmCr4HNl9Odx",
        "outputId": "05001a33-78c9-462a-adb1-5734a36f01c7",
        "colab": {
          "base_uri": "https://localhost:8080/",
          "height": 85
        }
      },
      "source": [
        "np.multiply(b, c)          # b*c"
      ],
      "execution_count": null,
      "outputs": [
        {
          "output_type": "execute_result",
          "data": {
            "text/plain": [
              "array([[ 1,  2,  3,  4],\n",
              "       [ 2,  4,  6,  8],\n",
              "       [ 3,  6,  9, 12],\n",
              "       [ 4,  8, 12, 16]])"
            ]
          },
          "metadata": {
            "tags": []
          },
          "execution_count": 14
        }
      ]
    },
    {
      "cell_type": "code",
      "metadata": {
        "id": "WsZUsfZP9Od2",
        "outputId": "146bdc64-44e4-49cd-d0fc-2f1bad33bca4",
        "colab": {
          "base_uri": "https://localhost:8080/",
          "height": 85
        }
      },
      "source": [
        "b@c          # b.c"
      ],
      "execution_count": null,
      "outputs": [
        {
          "output_type": "execute_result",
          "data": {
            "text/plain": [
              "array([[ 1,  2,  3,  4],\n",
              "       [ 2,  4,  6,  8],\n",
              "       [ 3,  6,  9, 12],\n",
              "       [ 4,  8, 12, 16]])"
            ]
          },
          "metadata": {
            "tags": []
          },
          "execution_count": 15
        }
      ]
    },
    {
      "cell_type": "code",
      "metadata": {
        "id": "FrylF7sy9Od6",
        "outputId": "6ffaeff0-57c4-4fd2-8cc1-87d89a895b42",
        "colab": {
          "base_uri": "https://localhost:8080/",
          "height": 34
        }
      },
      "source": [
        "a = [1,2,3]\n",
        "m = np.array([[[a, a, a], [a, a, a]], [[a, a, a], [a, a, a]]])\n",
        "print(m.shape)"
      ],
      "execution_count": null,
      "outputs": [
        {
          "output_type": "stream",
          "text": [
            "(2, 2, 3, 3)\n"
          ],
          "name": "stdout"
        }
      ]
    },
    {
      "cell_type": "markdown",
      "metadata": {
        "id": "-8thpagr9Od-"
      },
      "source": [
        "## Tensors"
      ]
    },
    {
      "cell_type": "code",
      "metadata": {
        "id": "QaYy6IhIQJcI",
        "outputId": "e3e5cd4b-a4ed-489e-c83e-6d313fe82aed",
        "colab": {
          "base_uri": "https://localhost:8080/",
          "height": 34
        }
      },
      "source": [
        "np.array([[[13, 56], [13, 56], [34, 17]], [[13, 56], [13, 56], [34, 17]]]).shape"
      ],
      "execution_count": null,
      "outputs": [
        {
          "output_type": "execute_result",
          "data": {
            "text/plain": [
              "(2, 3, 2)"
            ]
          },
          "metadata": {
            "tags": []
          },
          "execution_count": 17
        }
      ]
    },
    {
      "cell_type": "code",
      "metadata": {
        "id": "uvILUkvg9Od_",
        "outputId": "9bbd487a-9f32-4479-e89a-bc4f0a1ae1ad",
        "colab": {
          "base_uri": "https://localhost:8080/",
          "height": 493
        }
      },
      "source": [
        "t = np.array([[[[1],[2]],[[3],[4]],[[5],[6]]],[[[7],[8]],\\\n",
        "[[9],[10]],[[11],[12]]],[[[13],[14]],[[15],[16]],[[17],[17]]]])\n",
        "print(t, t.shape)"
      ],
      "execution_count": null,
      "outputs": [
        {
          "output_type": "stream",
          "text": [
            "[[[[ 1]\n",
            "   [ 2]]\n",
            "\n",
            "  [[ 3]\n",
            "   [ 4]]\n",
            "\n",
            "  [[ 5]\n",
            "   [ 6]]]\n",
            "\n",
            "\n",
            " [[[ 7]\n",
            "   [ 8]]\n",
            "\n",
            "  [[ 9]\n",
            "   [10]]\n",
            "\n",
            "  [[11]\n",
            "   [12]]]\n",
            "\n",
            "\n",
            " [[[13]\n",
            "   [14]]\n",
            "\n",
            "  [[15]\n",
            "   [16]]\n",
            "\n",
            "  [[17]\n",
            "   [17]]]] (3, 3, 2, 1)\n"
          ],
          "name": "stdout"
        }
      ]
    },
    {
      "cell_type": "markdown",
      "metadata": {
        "id": "rF6NnG7h9OeD"
      },
      "source": [
        "## Element-wise Matrix Operations"
      ]
    },
    {
      "cell_type": "code",
      "metadata": {
        "id": "F2R9bnMF9OeD",
        "outputId": "aca2ad66-9345-4759-f7e8-955cef33452f",
        "colab": {
          "base_uri": "https://localhost:8080/",
          "height": 34
        }
      },
      "source": [
        "# Scaling\n",
        "\n",
        "m = t*134\n",
        "print(m.shape)"
      ],
      "execution_count": null,
      "outputs": [
        {
          "output_type": "stream",
          "text": [
            "(3, 3, 2, 1)\n"
          ],
          "name": "stdout"
        }
      ]
    },
    {
      "cell_type": "code",
      "metadata": {
        "id": "I0C9DmL99OeK",
        "outputId": "d9754cb4-5232-4ebc-fd48-593a60706719",
        "colab": {
          "base_uri": "https://localhost:8080/",
          "height": 493
        }
      },
      "source": [
        "m = m/255\n",
        "print(m)"
      ],
      "execution_count": null,
      "outputs": [
        {
          "output_type": "stream",
          "text": [
            "[[[[0.5254902 ]\n",
            "   [1.05098039]]\n",
            "\n",
            "  [[1.57647059]\n",
            "   [2.10196078]]\n",
            "\n",
            "  [[2.62745098]\n",
            "   [3.15294118]]]\n",
            "\n",
            "\n",
            " [[[3.67843137]\n",
            "   [4.20392157]]\n",
            "\n",
            "  [[4.72941176]\n",
            "   [5.25490196]]\n",
            "\n",
            "  [[5.78039216]\n",
            "   [6.30588235]]]\n",
            "\n",
            "\n",
            " [[[6.83137255]\n",
            "   [7.35686275]]\n",
            "\n",
            "  [[7.88235294]\n",
            "   [8.40784314]]\n",
            "\n",
            "  [[8.93333333]\n",
            "   [8.93333333]]]]\n"
          ],
          "name": "stdout"
        }
      ]
    },
    {
      "cell_type": "code",
      "metadata": {
        "id": "s27Jz9UR9OeN",
        "outputId": "09d791e9-add1-4a3a-a19a-4aea8ab04f1d",
        "colab": {
          "base_uri": "https://localhost:8080/",
          "height": 51
        }
      },
      "source": [
        "# Adding matrices (MUST be the same shape)\n",
        "a = np.array([[1, 2], [3, 4]])\n",
        "a"
      ],
      "execution_count": null,
      "outputs": [
        {
          "output_type": "execute_result",
          "data": {
            "text/plain": [
              "array([[1, 2],\n",
              "       [3, 4]])"
            ]
          },
          "metadata": {
            "tags": []
          },
          "execution_count": 21
        }
      ]
    },
    {
      "cell_type": "code",
      "metadata": {
        "id": "YBjwyt1B9OeR",
        "outputId": "1d7a9f6a-310b-43cb-939d-388e3469e94e",
        "colab": {
          "base_uri": "https://localhost:8080/",
          "height": 34
        }
      },
      "source": [
        "b = np.array([[1, 2]])\n",
        "b"
      ],
      "execution_count": null,
      "outputs": [
        {
          "output_type": "execute_result",
          "data": {
            "text/plain": [
              "array([[1, 2]])"
            ]
          },
          "metadata": {
            "tags": []
          },
          "execution_count": 22
        }
      ]
    },
    {
      "cell_type": "code",
      "metadata": {
        "id": "4fRbWHOY9OeV",
        "outputId": "0208636f-0aae-40a0-a8ef-f3c92c3e3e74",
        "colab": {
          "base_uri": "https://localhost:8080/",
          "height": 51
        }
      },
      "source": [
        "print(a*b)"
      ],
      "execution_count": null,
      "outputs": [
        {
          "output_type": "stream",
          "text": [
            "[[1 4]\n",
            " [3 8]]\n"
          ],
          "name": "stdout"
        }
      ]
    },
    {
      "cell_type": "code",
      "metadata": {
        "id": "0PSdJeDP9Oed",
        "outputId": "1425caec-fd55-4dfb-8fba-0ee58ca32a30",
        "colab": {
          "base_uri": "https://localhost:8080/",
          "height": 51
        }
      },
      "source": [
        "print(np.multiply(a, b))"
      ],
      "execution_count": null,
      "outputs": [
        {
          "output_type": "stream",
          "text": [
            "[[1 4]\n",
            " [3 8]]\n"
          ],
          "name": "stdout"
        }
      ]
    },
    {
      "cell_type": "code",
      "metadata": {
        "id": "F-opJivg9Oeh",
        "outputId": "771ea78d-77a0-42e7-fa67-9646adce26d2",
        "colab": {
          "base_uri": "https://localhost:8080/",
          "height": 51
        }
      },
      "source": [
        "a = np.array([[1, 2, 3], [4, 5, 6]]) # -> 2x3\n",
        "b = np.array([[1, 2], [3, 4], [5, 6]]) # -> 3x2\n",
        "# np.multiply(a,b)\n",
        "\n",
        "np.matmul(a, b)\n",
        "# a.dot(b)\n",
        "# a@b"
      ],
      "execution_count": null,
      "outputs": [
        {
          "output_type": "execute_result",
          "data": {
            "text/plain": [
              "array([[22, 28],\n",
              "       [49, 64]])"
            ]
          },
          "metadata": {
            "tags": []
          },
          "execution_count": 26
        }
      ]
    },
    {
      "cell_type": "markdown",
      "metadata": {
        "id": "iE6ir-S79Oek"
      },
      "source": [
        "## Matrix Multiplication"
      ]
    },
    {
      "cell_type": "markdown",
      "metadata": {
        "id": "ZggOX8J09Oel"
      },
      "source": [
        "For an *NxM* matrix:\n",
        "- Number of columns in N MUST be equal to number of rows in M.\n",
        "- The output will have shape of (number rows in N) X (number of columns in M).\n",
        "- Order matters. Multiplying NxM is not the same as multiplying MxN.\n",
        "- Data in N should be arranged as rows, while data in M should be arranged as columns. It is very important in NN because as we go through each layer, we want to reduce the number of features (columns) in the input, and still maintain the number of examples (rows)."
      ]
    },
    {
      "cell_type": "code",
      "metadata": {
        "id": "rMgSyQno9Oem",
        "outputId": "fbe38cf5-af51-4f74-9eaf-fb50bc792a45",
        "colab": {
          "base_uri": "https://localhost:8080/",
          "height": 51
        }
      },
      "source": [
        "a = np.array([[1,2,3,4],[5,6,7,8]])\n",
        "print(a, a.shape)"
      ],
      "execution_count": null,
      "outputs": [
        {
          "output_type": "stream",
          "text": [
            "[[1 2 3 4]\n",
            " [5 6 7 8]] (2, 4)\n"
          ],
          "name": "stdout"
        }
      ]
    },
    {
      "cell_type": "code",
      "metadata": {
        "id": "Un2JSTZK9Oep",
        "outputId": "ee5cde14-6c0a-4720-f078-e829cba3ce7e",
        "colab": {
          "base_uri": "https://localhost:8080/",
          "height": 85
        }
      },
      "source": [
        "b = np.array([[1,2,3],[4,5,6],[7,8,9],[10,11,12]])\n",
        "print(b, b.shape)"
      ],
      "execution_count": null,
      "outputs": [
        {
          "output_type": "stream",
          "text": [
            "[[ 1  2  3]\n",
            " [ 4  5  6]\n",
            " [ 7  8  9]\n",
            " [10 11 12]] (4, 3)\n"
          ],
          "name": "stdout"
        }
      ]
    },
    {
      "cell_type": "code",
      "metadata": {
        "id": "cWvDjxyB9Oet",
        "outputId": "4089c8ab-4dea-4b11-f636-578b5a245678",
        "colab": {
          "base_uri": "https://localhost:8080/",
          "height": 51
        }
      },
      "source": [
        "c = np.matmul(a, b)\n",
        "print(c, c.shape)"
      ],
      "execution_count": null,
      "outputs": [
        {
          "output_type": "stream",
          "text": [
            "[[ 70  80  90]\n",
            " [158 184 210]] (2, 3)\n"
          ],
          "name": "stdout"
        }
      ]
    },
    {
      "cell_type": "markdown",
      "metadata": {
        "id": "W7dxHtR79Oex"
      },
      "source": [
        "### NumPy's dot function\n",
        "You may sometimes see NumPy's dot function in places where you would expect a matmul. It turns out that the results of dot and matmul are the same if the matrices are two dimensional."
      ]
    },
    {
      "cell_type": "code",
      "metadata": {
        "id": "rko5pkVF9Oey",
        "outputId": "ff9718a7-7932-48d5-bdad-c1c58a6bb082",
        "colab": {
          "base_uri": "https://localhost:8080/",
          "height": 51
        }
      },
      "source": [
        "a = np.array([[1,2],[3,4]])\n",
        "np.dot(a,a)"
      ],
      "execution_count": null,
      "outputs": [
        {
          "output_type": "execute_result",
          "data": {
            "text/plain": [
              "array([[ 7, 10],\n",
              "       [15, 22]])"
            ]
          },
          "metadata": {
            "tags": []
          },
          "execution_count": 30
        }
      ]
    },
    {
      "cell_type": "code",
      "metadata": {
        "id": "PyN8Zaws9Oe2",
        "outputId": "e5853d4e-c06b-4a2d-d03e-b4c625e92403",
        "colab": {
          "base_uri": "https://localhost:8080/",
          "height": 51
        }
      },
      "source": [
        "np.matmul(a, a)"
      ],
      "execution_count": null,
      "outputs": [
        {
          "output_type": "execute_result",
          "data": {
            "text/plain": [
              "array([[ 7, 10],\n",
              "       [15, 22]])"
            ]
          },
          "metadata": {
            "tags": []
          },
          "execution_count": 31
        }
      ]
    },
    {
      "cell_type": "markdown",
      "metadata": {
        "id": "qmc1J2ti9Oe6"
      },
      "source": [
        "## Transpose"
      ]
    },
    {
      "cell_type": "code",
      "metadata": {
        "id": "atp3uuI89Oe6",
        "outputId": "10087ce5-e8cd-4ba1-c3df-f071a1778dfb",
        "colab": {
          "base_uri": "https://localhost:8080/",
          "height": 68
        }
      },
      "source": [
        "m = np.array([[1,2,3,4], [5,6,7,8], [9,10,11,12]])\n",
        "m"
      ],
      "execution_count": null,
      "outputs": [
        {
          "output_type": "execute_result",
          "data": {
            "text/plain": [
              "array([[ 1,  2,  3,  4],\n",
              "       [ 5,  6,  7,  8],\n",
              "       [ 9, 10, 11, 12]])"
            ]
          },
          "metadata": {
            "tags": []
          },
          "execution_count": 32
        }
      ]
    },
    {
      "cell_type": "code",
      "metadata": {
        "id": "pCQ9NQKS9Oe-",
        "outputId": "3364202d-d241-403f-9f72-43f788fd94f3",
        "colab": {
          "base_uri": "https://localhost:8080/",
          "height": 85
        }
      },
      "source": [
        "m.T"
      ],
      "execution_count": null,
      "outputs": [
        {
          "output_type": "execute_result",
          "data": {
            "text/plain": [
              "array([[ 1,  5,  9],\n",
              "       [ 2,  6, 10],\n",
              "       [ 3,  7, 11],\n",
              "       [ 4,  8, 12]])"
            ]
          },
          "metadata": {
            "tags": []
          },
          "execution_count": 33
        }
      ]
    },
    {
      "cell_type": "markdown",
      "metadata": {
        "id": "pCAGasPg9OfC"
      },
      "source": [
        "NumPy does this without actually moving any data in memory - it simply changes the way it indexes the original matrix - so it’s quite efficient.\n",
        "\n",
        "However, that also means you need to be careful with how you modify objects, because they are sharing the same data. For example, with the same matrix m from above, let's make a new variable m_t that stores m's transpose. Then look what happens if we modify a value in m_t:"
      ]
    },
    {
      "cell_type": "code",
      "metadata": {
        "id": "cM_x16yp9OfC",
        "outputId": "687a9a72-5bde-4718-feef-13b1cb557b14",
        "colab": {
          "base_uri": "https://localhost:8080/",
          "height": 85
        }
      },
      "source": [
        "m_t = m.T\n",
        "m_t[3][1] = 200\n",
        "m_t"
      ],
      "execution_count": null,
      "outputs": [
        {
          "output_type": "execute_result",
          "data": {
            "text/plain": [
              "array([[  1,   5,   9],\n",
              "       [  2,   6,  10],\n",
              "       [  3,   7,  11],\n",
              "       [  4, 200,  12]])"
            ]
          },
          "metadata": {
            "tags": []
          },
          "execution_count": 34
        }
      ]
    },
    {
      "cell_type": "code",
      "metadata": {
        "id": "MJux6TC49OfG",
        "outputId": "7cb30843-888c-4b4c-8e70-031575d4f222",
        "colab": {
          "base_uri": "https://localhost:8080/",
          "height": 68
        }
      },
      "source": [
        "m"
      ],
      "execution_count": null,
      "outputs": [
        {
          "output_type": "execute_result",
          "data": {
            "text/plain": [
              "array([[  1,   2,   3,   4],\n",
              "       [  5,   6,   7, 200],\n",
              "       [  9,  10,  11,  12]])"
            ]
          },
          "metadata": {
            "tags": []
          },
          "execution_count": 35
        }
      ]
    },
    {
      "cell_type": "markdown",
      "metadata": {
        "id": "YKC5FwY79OfJ"
      },
      "source": [
        "So remember to consider the transpose just as a different view of your matrix, rather than a different matrix entirely."
      ]
    },
    {
      "cell_type": "markdown",
      "metadata": {
        "id": "xocH6JIe9OfJ"
      },
      "source": [
        "### A real use case\n",
        "Let's say you have the following two matrices, called inputs and weights,"
      ]
    },
    {
      "cell_type": "code",
      "metadata": {
        "id": "REoKkMtb9OfK",
        "outputId": "5828e6b4-a198-4cf4-dce9-23454a609b08",
        "colab": {
          "base_uri": "https://localhost:8080/",
          "height": 34
        }
      },
      "source": [
        "inputs = np.array([[-0.27,  0.45,  0.64, 0.31]])\n",
        "print(inputs, inputs.shape)"
      ],
      "execution_count": null,
      "outputs": [
        {
          "output_type": "stream",
          "text": [
            "[[-0.27  0.45  0.64  0.31]] (1, 4)\n"
          ],
          "name": "stdout"
        }
      ]
    },
    {
      "cell_type": "code",
      "metadata": {
        "id": "g1F0PhFM9OfN",
        "outputId": "d9f1d6e7-c6b5-4a8d-effa-1e1a9d4703cb",
        "colab": {
          "base_uri": "https://localhost:8080/",
          "height": 68
        }
      },
      "source": [
        "weights = np.array([[0.02, 0.001, -0.03, 0.036], \\\n",
        "    [0.04, -0.003, 0.025, 0.009], [0.012, -0.045, 0.28, -0.067]])\n",
        "print(weights, weights.shape)"
      ],
      "execution_count": null,
      "outputs": [
        {
          "output_type": "stream",
          "text": [
            "[[ 0.02   0.001 -0.03   0.036]\n",
            " [ 0.04  -0.003  0.025  0.009]\n",
            " [ 0.012 -0.045  0.28  -0.067]] (3, 4)\n"
          ],
          "name": "stdout"
        }
      ]
    },
    {
      "cell_type": "code",
      "metadata": {
        "id": "1N0QGD6lY9eJ",
        "outputId": "f765fc1e-a16f-4448-e17f-34cbf7232def",
        "colab": {
          "base_uri": "https://localhost:8080/",
          "height": 34
        }
      },
      "source": [
        "weights.T.shape"
      ],
      "execution_count": null,
      "outputs": [
        {
          "output_type": "execute_result",
          "data": {
            "text/plain": [
              "(4, 3)"
            ]
          },
          "metadata": {
            "tags": []
          },
          "execution_count": 38
        }
      ]
    },
    {
      "cell_type": "code",
      "metadata": {
        "id": "VYGzNxTd9OfR"
      },
      "source": [
        "# np.matmul(inputs, weights)\n",
        "# inputs.dot(weights)"
      ],
      "execution_count": null,
      "outputs": []
    },
    {
      "cell_type": "code",
      "metadata": {
        "id": "Yg0LVrAB9OfU",
        "outputId": "64ac204d-35cc-4b22-dd9f-f3f5bfcdde95",
        "colab": {
          "base_uri": "https://localhost:8080/",
          "height": 34
        }
      },
      "source": [
        "np.matmul(inputs, weights.T).shape"
      ],
      "execution_count": null,
      "outputs": [
        {
          "output_type": "execute_result",
          "data": {
            "text/plain": [
              "(1, 3)"
            ]
          },
          "metadata": {
            "tags": []
          },
          "execution_count": 43
        }
      ]
    },
    {
      "cell_type": "code",
      "metadata": {
        "id": "eeQ_Pdl09OfZ",
        "outputId": "77e0ec9c-33e3-467a-95ff-472b708c7681",
        "colab": {
          "base_uri": "https://localhost:8080/",
          "height": 68
        }
      },
      "source": [
        "np.matmul(weights, inputs.T)"
      ],
      "execution_count": null,
      "outputs": [
        {
          "output_type": "execute_result",
          "data": {
            "text/plain": [
              "array([[-0.01299],\n",
              "       [ 0.00664],\n",
              "       [ 0.13494]])"
            ]
          },
          "metadata": {
            "tags": []
          },
          "execution_count": 44
        }
      ]
    },
    {
      "cell_type": "markdown",
      "metadata": {
        "id": "i-NUHf249Ofc"
      },
      "source": [
        "## Assignment"
      ]
    },
    {
      "cell_type": "code",
      "metadata": {
        "id": "hp7Mii9K9Ofc",
        "outputId": "961fbff4-df66-41fc-c7c9-06cd0b334e7b",
        "colab": {
          "base_uri": "https://localhost:8080/",
          "height": 204
        }
      },
      "source": [
        "# Use the numpy library\n",
        "import numpy as np\n",
        "\n",
        "\n",
        "def prepare_inputs(inputs):\n",
        "    # TODO: create a 2-dimensional ndarray from the given 1-dimensional list;\n",
        "    #       assign it to input_array\n",
        "    input_array = np.array([[2,3,5,7,9]])\n",
        "    \n",
        "    # TODO: find the minimum value in input_array and subtract that\n",
        "    #       value from all the elements of input_array. Store the\n",
        "    #       result in inputs_minus_min\n",
        "    min_arr = np.min(input_array)\n",
        "    sub_arr = np.subtract(input_array, min_arr)\n",
        "    inputs_minus_min = sub_arr\n",
        "\n",
        "    # TODO: find the maximum value in inputs_minus_min and divide\n",
        "    #       all of the values in inputs_minus_min by the maximum value.\n",
        "    #       Store the results in inputs_div_max.\n",
        "    max_arr = np.max(inputs_minus_min)\n",
        "    div_arr = np.divide(inputs_minus_min, max_arr)\n",
        "    inputs_div_max = div_arr\n",
        "\n",
        "    # return the three arrays we've created\n",
        "    return input_array, inputs_minus_min, inputs_div_max\n",
        "    \n",
        "\n",
        "def multiply_inputs(m1, m2):\n",
        "    # TODO: Check the shapes of the matrices m1 and m2. \n",
        "    #       m1 and m2 will be ndarray objects.\n",
        "    #\n",
        "    #       Return False if the shapes cannot be used for matrix\n",
        "    #       multiplication. You may not use a transpose\n",
        "    a = m1.shape[1]\n",
        "    b = m2.shape[0]\n",
        "    if a != b:\n",
        "        return False\n",
        "    # a*b for a,b in (m1,m2)\n",
        "    # pass\n",
        "\n",
        "\n",
        "    # TODO: If you have not returned False, then calculate the matrix product\n",
        "    #       of m1 and m2 and return it. Do not use a transpose,\n",
        "    #       but you swap their order if necessary\n",
        "    else:\n",
        "        return m1.dot(m2)\n",
        "    # pass\n",
        "    \n",
        "\n",
        "def find_mean(values):\n",
        "    # TODO: Return the average of the values in the given Python list\n",
        "    return np.mean(values)\n",
        "    # pass\n",
        "\n",
        "\n",
        "input_array, inputs_minus_min, inputs_div_max = prepare_inputs([-1,2,7])\n",
        "print(\"Input as Array: {}\".format(input_array))\n",
        "print(\"Input minus min: {}\".format(inputs_minus_min))\n",
        "print(\"Input  Array: {}\".format(inputs_div_max))\n",
        "\n",
        "print(\"Multiply 1:\\n{}\".format(multiply_inputs(np.array([[1,2,3],[4,5,6]]), np.array([[1],[2],[3],[4]]))))\n",
        "print(\"Multiply 2:\\n{}\".format(multiply_inputs(np.array([[1,2,3],[4,5,6]]), np.array([[1],[2],[3]]))))\n",
        "print(\"Multiply 3:\\n{}\".format(multiply_inputs(np.array([[1,2,3],[4,5,6]]), np.array([[1,2]]))))\n",
        "\n",
        "print(\"Mean == {}\".format(find_mean([1,3,4])))"
      ],
      "execution_count": null,
      "outputs": [
        {
          "output_type": "stream",
          "text": [
            "Input as Array: [[2 3 5 7 9]]\n",
            "Input minus min: [[0 1 3 5 7]]\n",
            "Input  Array: [[0.         0.14285714 0.42857143 0.71428571 1.        ]]\n",
            "Multiply 1:\n",
            "False\n",
            "Multiply 2:\n",
            "[[14]\n",
            " [32]]\n",
            "Multiply 3:\n",
            "False\n",
            "Mean == 2.6666666666666665\n"
          ],
          "name": "stdout"
        }
      ]
    },
    {
      "cell_type": "code",
      "metadata": {
        "id": "qfSPE-rB9a6I"
      },
      "source": [
        ""
      ],
      "execution_count": null,
      "outputs": []
    }
  ]
}